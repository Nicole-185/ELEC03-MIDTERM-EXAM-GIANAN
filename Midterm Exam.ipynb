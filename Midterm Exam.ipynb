{
 "cells": [
  {
   "cell_type": "markdown",
   "id": "2dd2fa56-d16c-4485-b0a9-ef0d83d200fb",
   "metadata": {},
   "source": [
    "<h1>MIDTERM EXAM</h1>\n",
    "<hr>\n",
    "<h1>35 Insight on Chicago Crimes</h1>\n",
    "<img src=\"https://res.cloudinary.com/hello-tickets/image/upload/c_limit,f_auto,q_auto,w_1300/v1665543787/acmhg2fqije0icvm2hzr.jpg\">"
   ]
  },
  {
   "cell_type": "markdown",
   "id": "384ddaea-4bae-4a08-9758-324b50e8c31a",
   "metadata": {},
   "source": [
    "<h3>Import Necessary Libraries</h3>\n",
    "<hr>"
   ]
  },
  {
   "cell_type": "code",
   "execution_count": 27,
   "id": "85d5d540-4f87-4cf7-96a7-405b027382d2",
   "metadata": {},
   "outputs": [],
   "source": [
    "import numpy as np\n",
    "import pandas as pd\n",
    "import matplotlib.pyplot as pyplot \n",
    "import seaborn as sns\n",
    "import folium\n",
    "import warnings\n",
    "warnings.filterwarnings('ignore')"
   ]
  },
  {
   "cell_type": "markdown",
   "id": "29ca99bc-9bb8-4d2a-95cf-07238b6eb869",
   "metadata": {},
   "source": [
    "<h3>Import the Data</h3>\n",
    "<hr>"
   ]
  },
  {
   "cell_type": "code",
   "execution_count": 2,
   "id": "27aa4ce3-c212-40be-8846-d837e7061841",
   "metadata": {},
   "outputs": [
    {
     "data": {
      "text/html": [
       "<div>\n",
       "<style scoped>\n",
       "    .dataframe tbody tr th:only-of-type {\n",
       "        vertical-align: middle;\n",
       "    }\n",
       "\n",
       "    .dataframe tbody tr th {\n",
       "        vertical-align: top;\n",
       "    }\n",
       "\n",
       "    .dataframe thead th {\n",
       "        text-align: right;\n",
       "    }\n",
       "</style>\n",
       "<table border=\"1\" class=\"dataframe\">\n",
       "  <thead>\n",
       "    <tr style=\"text-align: right;\">\n",
       "      <th></th>\n",
       "      <th>ID</th>\n",
       "      <th>Case Number</th>\n",
       "      <th>Date</th>\n",
       "      <th>Block</th>\n",
       "      <th>IUCR</th>\n",
       "      <th>Primary Type</th>\n",
       "      <th>Description</th>\n",
       "      <th>Location Description</th>\n",
       "      <th>Arrest</th>\n",
       "      <th>Domestic</th>\n",
       "      <th>...</th>\n",
       "      <th>Ward</th>\n",
       "      <th>Community Area</th>\n",
       "      <th>FBI Code</th>\n",
       "      <th>X Coordinate</th>\n",
       "      <th>Y Coordinate</th>\n",
       "      <th>Year</th>\n",
       "      <th>Updated On</th>\n",
       "      <th>Latitude</th>\n",
       "      <th>Longitude</th>\n",
       "      <th>Location</th>\n",
       "    </tr>\n",
       "  </thead>\n",
       "  <tbody>\n",
       "    <tr>\n",
       "      <th>0</th>\n",
       "      <td>13439321</td>\n",
       "      <td>JH237424</td>\n",
       "      <td>04/14/2024 12:00:00 AM</td>\n",
       "      <td>040XX S PRAIRIE AVE</td>\n",
       "      <td>0890</td>\n",
       "      <td>THEFT</td>\n",
       "      <td>FROM BUILDING</td>\n",
       "      <td>APARTMENT</td>\n",
       "      <td>False</td>\n",
       "      <td>False</td>\n",
       "      <td>...</td>\n",
       "      <td>3</td>\n",
       "      <td>38.0</td>\n",
       "      <td>06</td>\n",
       "      <td>1178707.0</td>\n",
       "      <td>1878256.0</td>\n",
       "      <td>2024</td>\n",
       "      <td>12/21/2024 03:40:46 PM</td>\n",
       "      <td>41.821236</td>\n",
       "      <td>-87.619921</td>\n",
       "      <td>(41.821236024, -87.619920712)</td>\n",
       "    </tr>\n",
       "    <tr>\n",
       "      <th>1</th>\n",
       "      <td>13437420</td>\n",
       "      <td>JH234779</td>\n",
       "      <td>04/14/2024 12:00:00 AM</td>\n",
       "      <td>023XX W CERMAK RD</td>\n",
       "      <td>2825</td>\n",
       "      <td>OTHER OFFENSE</td>\n",
       "      <td>HARASSMENT BY TELEPHONE</td>\n",
       "      <td>COMMERCIAL / BUSINESS OFFICE</td>\n",
       "      <td>False</td>\n",
       "      <td>False</td>\n",
       "      <td>...</td>\n",
       "      <td>25</td>\n",
       "      <td>31.0</td>\n",
       "      <td>26</td>\n",
       "      <td>1161210.0</td>\n",
       "      <td>1889347.0</td>\n",
       "      <td>2024</td>\n",
       "      <td>12/21/2024 03:40:46 PM</td>\n",
       "      <td>41.852052</td>\n",
       "      <td>-87.683801</td>\n",
       "      <td>(41.852051675, -87.683800849)</td>\n",
       "    </tr>\n",
       "    <tr>\n",
       "      <th>2</th>\n",
       "      <td>13428676</td>\n",
       "      <td>JH224478</td>\n",
       "      <td>04/14/2024 12:00:00 AM</td>\n",
       "      <td>043XX W LE MOYNE ST</td>\n",
       "      <td>0917</td>\n",
       "      <td>MOTOR VEHICLE THEFT</td>\n",
       "      <td>CYCLE, SCOOTER, BIKE WITH VIN</td>\n",
       "      <td>STREET</td>\n",
       "      <td>False</td>\n",
       "      <td>False</td>\n",
       "      <td>...</td>\n",
       "      <td>36</td>\n",
       "      <td>23.0</td>\n",
       "      <td>07</td>\n",
       "      <td>1146960.0</td>\n",
       "      <td>1909501.0</td>\n",
       "      <td>2024</td>\n",
       "      <td>12/21/2024 03:40:46 PM</td>\n",
       "      <td>41.907640</td>\n",
       "      <td>-87.735587</td>\n",
       "      <td>(41.907640473, -87.735587478)</td>\n",
       "    </tr>\n",
       "    <tr>\n",
       "      <th>3</th>\n",
       "      <td>13429357</td>\n",
       "      <td>JH225293</td>\n",
       "      <td>04/14/2024 12:00:00 AM</td>\n",
       "      <td>039XX W ADAMS ST</td>\n",
       "      <td>143A</td>\n",
       "      <td>WEAPONS VIOLATION</td>\n",
       "      <td>UNLAWFUL POSSESSION - HANDGUN</td>\n",
       "      <td>STREET</td>\n",
       "      <td>True</td>\n",
       "      <td>False</td>\n",
       "      <td>...</td>\n",
       "      <td>28</td>\n",
       "      <td>26.0</td>\n",
       "      <td>15</td>\n",
       "      <td>1150158.0</td>\n",
       "      <td>1898721.0</td>\n",
       "      <td>2024</td>\n",
       "      <td>12/21/2024 03:40:46 PM</td>\n",
       "      <td>41.877997</td>\n",
       "      <td>-87.724121</td>\n",
       "      <td>(41.877997275, -87.724120826)</td>\n",
       "    </tr>\n",
       "    <tr>\n",
       "      <th>4</th>\n",
       "      <td>13430098</td>\n",
       "      <td>JH226395</td>\n",
       "      <td>04/14/2024 12:00:00 AM</td>\n",
       "      <td>011XX W 112TH PL</td>\n",
       "      <td>0890</td>\n",
       "      <td>THEFT</td>\n",
       "      <td>FROM BUILDING</td>\n",
       "      <td>RESIDENCE</td>\n",
       "      <td>False</td>\n",
       "      <td>False</td>\n",
       "      <td>...</td>\n",
       "      <td>21</td>\n",
       "      <td>75.0</td>\n",
       "      <td>06</td>\n",
       "      <td>1170856.0</td>\n",
       "      <td>1830157.0</td>\n",
       "      <td>2024</td>\n",
       "      <td>12/21/2024 03:40:46 PM</td>\n",
       "      <td>41.689421</td>\n",
       "      <td>-87.650123</td>\n",
       "      <td>(41.6894214, -87.650123247)</td>\n",
       "    </tr>\n",
       "    <tr>\n",
       "      <th>...</th>\n",
       "      <td>...</td>\n",
       "      <td>...</td>\n",
       "      <td>...</td>\n",
       "      <td>...</td>\n",
       "      <td>...</td>\n",
       "      <td>...</td>\n",
       "      <td>...</td>\n",
       "      <td>...</td>\n",
       "      <td>...</td>\n",
       "      <td>...</td>\n",
       "      <td>...</td>\n",
       "      <td>...</td>\n",
       "      <td>...</td>\n",
       "      <td>...</td>\n",
       "      <td>...</td>\n",
       "      <td>...</td>\n",
       "      <td>...</td>\n",
       "      <td>...</td>\n",
       "      <td>...</td>\n",
       "      <td>...</td>\n",
       "      <td>...</td>\n",
       "    </tr>\n",
       "    <tr>\n",
       "      <th>249118</th>\n",
       "      <td>13805239</td>\n",
       "      <td>JJ217509</td>\n",
       "      <td>04/12/2025 12:00:00 AM</td>\n",
       "      <td>029XX W LOGAN BLVD</td>\n",
       "      <td>2826</td>\n",
       "      <td>OTHER OFFENSE</td>\n",
       "      <td>HARASSMENT BY ELECTRONIC MEANS</td>\n",
       "      <td>APARTMENT</td>\n",
       "      <td>False</td>\n",
       "      <td>False</td>\n",
       "      <td>...</td>\n",
       "      <td>1</td>\n",
       "      <td>22.0</td>\n",
       "      <td>26</td>\n",
       "      <td>1156478.0</td>\n",
       "      <td>1917149.0</td>\n",
       "      <td>2025</td>\n",
       "      <td>04/19/2025 03:41:24 PM</td>\n",
       "      <td>41.928440</td>\n",
       "      <td>-87.700416</td>\n",
       "      <td>(41.928439867, -87.700415972)</td>\n",
       "    </tr>\n",
       "    <tr>\n",
       "      <th>249119</th>\n",
       "      <td>13804023</td>\n",
       "      <td>JJ215813</td>\n",
       "      <td>04/12/2025 12:00:00 AM</td>\n",
       "      <td>094XX S HARVARD AVE</td>\n",
       "      <td>0430</td>\n",
       "      <td>BATTERY</td>\n",
       "      <td>AGGRAVATED - OTHER DANGEROUS WEAPON</td>\n",
       "      <td>STREET</td>\n",
       "      <td>False</td>\n",
       "      <td>False</td>\n",
       "      <td>...</td>\n",
       "      <td>9</td>\n",
       "      <td>49.0</td>\n",
       "      <td>04B</td>\n",
       "      <td>1175694.0</td>\n",
       "      <td>1842631.0</td>\n",
       "      <td>2025</td>\n",
       "      <td>04/19/2025 03:41:24 PM</td>\n",
       "      <td>41.723545</td>\n",
       "      <td>-87.632040</td>\n",
       "      <td>(41.723545182, -87.632039508)</td>\n",
       "    </tr>\n",
       "    <tr>\n",
       "      <th>249120</th>\n",
       "      <td>13803926</td>\n",
       "      <td>JJ215943</td>\n",
       "      <td>04/12/2025 12:00:00 AM</td>\n",
       "      <td>084XX S VINCENNES AVE</td>\n",
       "      <td>0486</td>\n",
       "      <td>BATTERY</td>\n",
       "      <td>DOMESTIC BATTERY SIMPLE</td>\n",
       "      <td>APARTMENT</td>\n",
       "      <td>False</td>\n",
       "      <td>True</td>\n",
       "      <td>...</td>\n",
       "      <td>21</td>\n",
       "      <td>71.0</td>\n",
       "      <td>08B</td>\n",
       "      <td>1173850.0</td>\n",
       "      <td>1848976.0</td>\n",
       "      <td>2025</td>\n",
       "      <td>04/19/2025 03:41:24 PM</td>\n",
       "      <td>41.740998</td>\n",
       "      <td>-87.638606</td>\n",
       "      <td>(41.74099774, -87.638606337)</td>\n",
       "    </tr>\n",
       "    <tr>\n",
       "      <th>249121</th>\n",
       "      <td>13803475</td>\n",
       "      <td>JJ215338</td>\n",
       "      <td>04/12/2025 12:00:00 AM</td>\n",
       "      <td>050XX S ABERDEEN ST</td>\n",
       "      <td>0530</td>\n",
       "      <td>ASSAULT</td>\n",
       "      <td>AGGRAVATED - OTHER DANGEROUS WEAPON</td>\n",
       "      <td>STREET</td>\n",
       "      <td>True</td>\n",
       "      <td>False</td>\n",
       "      <td>...</td>\n",
       "      <td>20</td>\n",
       "      <td>61.0</td>\n",
       "      <td>04A</td>\n",
       "      <td>1169838.0</td>\n",
       "      <td>1871348.0</td>\n",
       "      <td>2025</td>\n",
       "      <td>04/19/2025 03:41:24 PM</td>\n",
       "      <td>41.802477</td>\n",
       "      <td>-87.652657</td>\n",
       "      <td>(41.802477219, -87.652657244)</td>\n",
       "    </tr>\n",
       "    <tr>\n",
       "      <th>249122</th>\n",
       "      <td>13804512</td>\n",
       "      <td>JJ216668</td>\n",
       "      <td>04/12/2025 12:00:00 AM</td>\n",
       "      <td>012XX W CARROLL AVE</td>\n",
       "      <td>0710</td>\n",
       "      <td>THEFT</td>\n",
       "      <td>THEFT FROM MOTOR VEHICLE</td>\n",
       "      <td>STREET</td>\n",
       "      <td>False</td>\n",
       "      <td>False</td>\n",
       "      <td>...</td>\n",
       "      <td>27</td>\n",
       "      <td>28.0</td>\n",
       "      <td>06</td>\n",
       "      <td>1168216.0</td>\n",
       "      <td>1902390.0</td>\n",
       "      <td>2025</td>\n",
       "      <td>04/19/2025 03:41:24 PM</td>\n",
       "      <td>41.887694</td>\n",
       "      <td>-87.657710</td>\n",
       "      <td>(41.887694407, -87.657710204)</td>\n",
       "    </tr>\n",
       "  </tbody>\n",
       "</table>\n",
       "<p>249123 rows × 22 columns</p>\n",
       "</div>"
      ],
      "text/plain": [
       "              ID Case Number                    Date                  Block  \\\n",
       "0       13439321    JH237424  04/14/2024 12:00:00 AM    040XX S PRAIRIE AVE   \n",
       "1       13437420    JH234779  04/14/2024 12:00:00 AM      023XX W CERMAK RD   \n",
       "2       13428676    JH224478  04/14/2024 12:00:00 AM    043XX W LE MOYNE ST   \n",
       "3       13429357    JH225293  04/14/2024 12:00:00 AM       039XX W ADAMS ST   \n",
       "4       13430098    JH226395  04/14/2024 12:00:00 AM       011XX W 112TH PL   \n",
       "...          ...         ...                     ...                    ...   \n",
       "249118  13805239    JJ217509  04/12/2025 12:00:00 AM     029XX W LOGAN BLVD   \n",
       "249119  13804023    JJ215813  04/12/2025 12:00:00 AM    094XX S HARVARD AVE   \n",
       "249120  13803926    JJ215943  04/12/2025 12:00:00 AM  084XX S VINCENNES AVE   \n",
       "249121  13803475    JJ215338  04/12/2025 12:00:00 AM    050XX S ABERDEEN ST   \n",
       "249122  13804512    JJ216668  04/12/2025 12:00:00 AM    012XX W CARROLL AVE   \n",
       "\n",
       "        IUCR         Primary Type                          Description  \\\n",
       "0       0890                THEFT                        FROM BUILDING   \n",
       "1       2825        OTHER OFFENSE              HARASSMENT BY TELEPHONE   \n",
       "2       0917  MOTOR VEHICLE THEFT        CYCLE, SCOOTER, BIKE WITH VIN   \n",
       "3       143A    WEAPONS VIOLATION        UNLAWFUL POSSESSION - HANDGUN   \n",
       "4       0890                THEFT                        FROM BUILDING   \n",
       "...      ...                  ...                                  ...   \n",
       "249118  2826        OTHER OFFENSE       HARASSMENT BY ELECTRONIC MEANS   \n",
       "249119  0430              BATTERY  AGGRAVATED - OTHER DANGEROUS WEAPON   \n",
       "249120  0486              BATTERY              DOMESTIC BATTERY SIMPLE   \n",
       "249121  0530              ASSAULT  AGGRAVATED - OTHER DANGEROUS WEAPON   \n",
       "249122  0710                THEFT             THEFT FROM MOTOR VEHICLE   \n",
       "\n",
       "                Location Description  Arrest  Domestic  ...  Ward  \\\n",
       "0                          APARTMENT   False     False  ...     3   \n",
       "1       COMMERCIAL / BUSINESS OFFICE   False     False  ...    25   \n",
       "2                             STREET   False     False  ...    36   \n",
       "3                             STREET    True     False  ...    28   \n",
       "4                          RESIDENCE   False     False  ...    21   \n",
       "...                              ...     ...       ...  ...   ...   \n",
       "249118                     APARTMENT   False     False  ...     1   \n",
       "249119                        STREET   False     False  ...     9   \n",
       "249120                     APARTMENT   False      True  ...    21   \n",
       "249121                        STREET    True     False  ...    20   \n",
       "249122                        STREET   False     False  ...    27   \n",
       "\n",
       "        Community Area  FBI Code  X Coordinate Y Coordinate  Year  \\\n",
       "0                 38.0        06     1178707.0    1878256.0  2024   \n",
       "1                 31.0        26     1161210.0    1889347.0  2024   \n",
       "2                 23.0        07     1146960.0    1909501.0  2024   \n",
       "3                 26.0        15     1150158.0    1898721.0  2024   \n",
       "4                 75.0        06     1170856.0    1830157.0  2024   \n",
       "...                ...       ...           ...          ...   ...   \n",
       "249118            22.0        26     1156478.0    1917149.0  2025   \n",
       "249119            49.0       04B     1175694.0    1842631.0  2025   \n",
       "249120            71.0       08B     1173850.0    1848976.0  2025   \n",
       "249121            61.0       04A     1169838.0    1871348.0  2025   \n",
       "249122            28.0        06     1168216.0    1902390.0  2025   \n",
       "\n",
       "                    Updated On   Latitude  Longitude  \\\n",
       "0       12/21/2024 03:40:46 PM  41.821236 -87.619921   \n",
       "1       12/21/2024 03:40:46 PM  41.852052 -87.683801   \n",
       "2       12/21/2024 03:40:46 PM  41.907640 -87.735587   \n",
       "3       12/21/2024 03:40:46 PM  41.877997 -87.724121   \n",
       "4       12/21/2024 03:40:46 PM  41.689421 -87.650123   \n",
       "...                        ...        ...        ...   \n",
       "249118  04/19/2025 03:41:24 PM  41.928440 -87.700416   \n",
       "249119  04/19/2025 03:41:24 PM  41.723545 -87.632040   \n",
       "249120  04/19/2025 03:41:24 PM  41.740998 -87.638606   \n",
       "249121  04/19/2025 03:41:24 PM  41.802477 -87.652657   \n",
       "249122  04/19/2025 03:41:24 PM  41.887694 -87.657710   \n",
       "\n",
       "                             Location  \n",
       "0       (41.821236024, -87.619920712)  \n",
       "1       (41.852051675, -87.683800849)  \n",
       "2       (41.907640473, -87.735587478)  \n",
       "3       (41.877997275, -87.724120826)  \n",
       "4         (41.6894214, -87.650123247)  \n",
       "...                               ...  \n",
       "249118  (41.928439867, -87.700415972)  \n",
       "249119  (41.723545182, -87.632039508)  \n",
       "249120   (41.74099774, -87.638606337)  \n",
       "249121  (41.802477219, -87.652657244)  \n",
       "249122  (41.887694407, -87.657710204)  \n",
       "\n",
       "[249123 rows x 22 columns]"
      ]
     },
     "execution_count": 2,
     "metadata": {},
     "output_type": "execute_result"
    }
   ],
   "source": [
    "chicago = pd.read_csv('datasets/Chicago_Crimes.csv')\n",
    "chicago"
   ]
  },
  {
   "cell_type": "markdown",
   "id": "990513d1-0aed-4163-a430-f34c7ad1a498",
   "metadata": {},
   "source": [
    "<h3>Study and Prepare the Data</h3>\n",
    "<hr>"
   ]
  },
  {
   "cell_type": "code",
   "execution_count": 8,
   "id": "d27cccc7-a926-40f5-816d-16a3c6b6ca48",
   "metadata": {},
   "outputs": [
    {
     "name": "stdout",
     "output_type": "stream",
     "text": [
      "<class 'pandas.core.frame.DataFrame'>\n",
      "RangeIndex: 249123 entries, 0 to 249122\n",
      "Data columns (total 22 columns):\n",
      " #   Column                Non-Null Count   Dtype         \n",
      "---  ------                --------------   -----         \n",
      " 0   ID                    249123 non-null  int64         \n",
      " 1   Case Number           249123 non-null  category      \n",
      " 2   Date                  249123 non-null  datetime64[ns]\n",
      " 3   Block                 249123 non-null  category      \n",
      " 4   IUCR                  249123 non-null  category      \n",
      " 5   Primary Type          249123 non-null  category      \n",
      " 6   Description           249123 non-null  category      \n",
      " 7   Location Description  248266 non-null  category      \n",
      " 8   Arrest                249123 non-null  bool          \n",
      " 9   Domestic              249123 non-null  bool          \n",
      " 10  Beat                  249123 non-null  int64         \n",
      " 11  District              249123 non-null  int64         \n",
      " 12  Ward                  249123 non-null  int64         \n",
      " 13  Community Area        249120 non-null  float64       \n",
      " 14  FBI Code              249123 non-null  category      \n",
      " 15  X Coordinate          249033 non-null  float64       \n",
      " 16  Y Coordinate          249033 non-null  float64       \n",
      " 17  Year                  249123 non-null  int64         \n",
      " 18  Updated On            249123 non-null  datetime64[ns]\n",
      " 19  Latitude              249033 non-null  float64       \n",
      " 20  Longitude             249033 non-null  float64       \n",
      " 21  Location              249033 non-null  object        \n",
      "dtypes: bool(2), category(7), datetime64[ns](2), float64(5), int64(5), object(1)\n",
      "memory usage: 39.7+ MB\n"
     ]
    }
   ],
   "source": [
    "chicago.info()"
   ]
  },
  {
   "cell_type": "code",
   "execution_count": 13,
   "id": "0ee9b7bd-651b-41d6-9658-b924c4d7440c",
   "metadata": {},
   "outputs": [
    {
     "data": {
      "text/plain": [
       "ID                      0\n",
       "Case Number             0\n",
       "Date                    0\n",
       "Block                   0\n",
       "IUCR                    0\n",
       "Primary Type            0\n",
       "Description             0\n",
       "Location Description    0\n",
       "Arrest                  0\n",
       "Domestic                0\n",
       "Beat                    0\n",
       "District                0\n",
       "Ward                    0\n",
       "Community Area          0\n",
       "FBI Code                0\n",
       "X Coordinate            0\n",
       "Y Coordinate            0\n",
       "Year                    0\n",
       "Updated On              0\n",
       "Latitude                0\n",
       "Longitude               0\n",
       "Location                0\n",
       "Month                   0\n",
       "Day                     0\n",
       "DayOfWeek               0\n",
       "Time                    0\n",
       "dtype: int64"
      ]
     },
     "execution_count": 13,
     "metadata": {},
     "output_type": "execute_result"
    }
   ],
   "source": [
    "# 1. Handle missing values first\n",
    "chicago['Location Description'] = chicago['Location Description'].astype(str).fillna('unknown_area')\n",
    "chicago['Latitude'] = chicago['Latitude'].fillna(chicago['Latitude'].mode()[0])\n",
    "chicago['Longitude'] = chicago['Longitude'].fillna(chicago['Longitude'].mode()[0])\n",
    "chicago['X Coordinate'] = chicago['X Coordinate'].fillna(chicago['X Coordinate'].mode()[0])\n",
    "chicago['Y Coordinate'] = chicago['Y Coordinate'].fillna(chicago['Y Coordinate'].mode()[0])\n",
    "chicago['Community Area'] = chicago['Community Area'].fillna(chicago['Community Area'].mode()[0])\n",
    "chicago['Location'] = chicago['Location'].fillna(chicago['Location'].mode()[0])\n",
    "\n",
    "# 2. Fix 'Updated On' before converting to datetime\n",
    "chicago['Updated On'] = chicago['Updated On'].astype(str).str.replace('/', '-').str.strip()\n",
    "chicago['Updated On'] = pd.to_datetime(chicago['Updated On'], dayfirst=True, errors='coerce')\n",
    "\n",
    "# 3. Fix 'Date' before converting to datetime\n",
    "chicago['Date'] = chicago['Date'].astype(str).str.replace('/', '-').str.strip()\n",
    "chicago['Date'] = pd.to_datetime(chicago['Date'], dayfirst=True, errors='coerce')\n",
    "\n",
    "# 4. Extract datetime features\n",
    "chicago['Year'] = chicago['Date'].dt.year\n",
    "chicago['Month'] = chicago['Date'].dt.month\n",
    "chicago['Day'] = chicago['Date'].dt.day\n",
    "chicago['DayOfWeek'] = chicago['Date'].dt.dayofweek\n",
    "chicago['Time'] = chicago['Date'].dt.time\n",
    "\n",
    "# 5. Convert categorical columns AFTER cleaning\n",
    "categorical_cols = [\n",
    "    'Case Number', 'Block', 'IUCR', 'Primary Type', \n",
    "    'Description', 'Location Description', 'FBI Code', 'Year'\n",
    "]\n",
    "chicago[categorical_cols] = chicago[categorical_cols].astype('category')\n",
    "\n",
    "# 6. Check nulls\n",
    "chicago.isnull().sum()\n"
   ]
  },
  {
   "cell_type": "markdown",
   "id": "5b16754f-ec81-4ae9-92c9-ad74af35a933",
   "metadata": {},
   "source": [
    "<h3>Analyzing the Data</h3>\n",
    "<hr>"
   ]
  },
  {
   "cell_type": "markdown",
   "id": "21bf6253-c0ec-45cc-985f-71cb3e18858d",
   "metadata": {},
   "source": [
    "<h1><i>Univariate Data</i></h1>"
   ]
  },
  {
   "cell_type": "markdown",
   "id": "f3348fa7-9ea3-4156-9266-fadb49241c3c",
   "metadata": {},
   "source": [
    "<h1><strong>Crime Types</strong></h1>\n",
    "<hr>"
   ]
  },
  {
   "cell_type": "markdown",
   "id": "5b55067b-fdb9-411c-aa6c-6e96072af0d6",
   "metadata": {},
   "source": [
    "<h2>1. What are the top 10 crime types?</h2>"
   ]
  },
  {
   "cell_type": "code",
   "execution_count": null,
   "id": "e8925707-4e72-4859-808a-762c6e595d1d",
   "metadata": {},
   "outputs": [],
   "source": [
    "chicago['Primary Type'].value_counts().head(10)"
   ]
  },
  {
   "cell_type": "markdown",
   "id": "42c615cf-eaf0-4c85-a163-d4ff043c7df3",
   "metadata": {},
   "source": [
    "<h2>2. Which crime type occur the least?</h2>"
   ]
  },
  {
   "cell_type": "code",
   "execution_count": null,
   "id": "1341098b-2eb7-4d00-af5f-4c9e092d8892",
   "metadata": {},
   "outputs": [],
   "source": [
    "chicago['Primary Type'].value_counts().idxmin()"
   ]
  },
  {
   "cell_type": "markdown",
   "id": "f650034e-612e-408b-ac79-c3412630a0e3",
   "metadata": {},
   "source": [
    "<h2>3. Show the Frequency Distribution of all crime types.</h2>"
   ]
  },
  {
   "cell_type": "code",
   "execution_count": null,
   "id": "8331075e-0bb4-4c5c-a429-3d8442c5ffbc",
   "metadata": {},
   "outputs": [],
   "source": [
    "chicago['Primary Type'].value_counts().plot(kind = 'bar', figsize = (12,6))"
   ]
  },
  {
   "cell_type": "markdown",
   "id": "1136cebb-a3dc-4615-9ffe-f8e0de10ad6e",
   "metadata": {},
   "source": [
    "<h1><strong>Arrests & Domestics</strong></h1>\n",
    "<hr>"
   ]
  },
  {
   "cell_type": "markdown",
   "id": "712ea533-7ff7-428c-ab02-586e3107d707",
   "metadata": {},
   "source": [
    "<h2>4. How many total arrests happened?</h2>"
   ]
  },
  {
   "cell_type": "code",
   "execution_count": null,
   "id": "69db9633-cfda-40ba-9a78-dbc803593365",
   "metadata": {},
   "outputs": [],
   "source": [
    "chicago['Arrest'].sum()"
   ]
  },
  {
   "cell_type": "markdown",
   "id": "31b870c5-2e0a-4af5-ae2d-3c914473b214",
   "metadata": {},
   "source": [
    "<h2>5. Percentage of crimes that led to an arrest?</h2>"
   ]
  },
  {
   "cell_type": "code",
   "execution_count": null,
   "id": "b1925a7a-b8b2-446f-9e03-da8706527b29",
   "metadata": {},
   "outputs": [],
   "source": [
    "chicago['Arrest'].mean() * 100"
   ]
  },
  {
   "cell_type": "markdown",
   "id": "da581a60-4e48-488c-bc10-1a89a9c16ea5",
   "metadata": {},
   "source": [
    "<h2>6. Total domestic crimes vs. non domestic crimes?</h2>"
   ]
  },
  {
   "cell_type": "code",
   "execution_count": null,
   "id": "27241505-7bd2-4ae2-a4d2-cc73e86f0b06",
   "metadata": {},
   "outputs": [],
   "source": [
    "chicago['Domestic'].value_counts()"
   ]
  },
  {
   "cell_type": "markdown",
   "id": "bd058768-2e1c-463d-8fd1-d74cf103a72d",
   "metadata": {},
   "source": [
    "<h1><strong>Time & Year</strong></h1>\n",
    "<hr>"
   ]
  },
  {
   "cell_type": "markdown",
   "id": "4cf50211-bb11-4fc5-9767-4778403ec400",
   "metadata": {},
   "source": [
    "<h2>7. Trend of no. of crimes per year</h2>"
   ]
  },
  {
   "cell_type": "code",
   "execution_count": 15,
   "id": "aca16bdc-b0ef-432f-b2e6-942d4b5642a7",
   "metadata": {},
   "outputs": [
    {
     "data": {
      "text/plain": [
       "<Axes: xlabel='Year'>"
      ]
     },
     "execution_count": 15,
     "metadata": {},
     "output_type": "execute_result"
    },
    {
     "data": {
      "image/png": "[encoded data removed]",
      "text/plain": [
       "<Figure size 640x480 with 1 Axes>"
      ]
     },
     "metadata": {},
     "output_type": "display_data"
    }
   ],
   "source": [
    "chicago['Year'].value_counts().sort_index().plot(kind='line')"
   ]
  },
  {
   "cell_type": "markdown",
   "id": "e08fa620-a4e8-4697-b243-08194e166af1",
   "metadata": {},
   "source": [
    "<h2>8. Average number of crimes per year</h2>"
   ]
  },
  {
   "cell_type": "code",
   "execution_count": 17,
   "id": "22ea58d5-e0f9-4101-bd71-edcb18b7040d",
   "metadata": {},
   "outputs": [
    {
     "data": {
      "text/plain": [
       "np.float64(124561.5)"
      ]
     },
     "execution_count": 17,
     "metadata": {},
     "output_type": "execute_result"
    }
   ],
   "source": [
    "chicago['Year'].value_counts().mean()"
   ]
  },
  {
   "cell_type": "markdown",
   "id": "dc7e5b60-3180-473c-a8ba-8f7c58704724",
   "metadata": {},
   "source": [
    "<h1><strong>Locations</strong></h1>\n",
    "<hr>"
   ]
  },
  {
   "cell_type": "markdown",
   "id": "c4cec653-d12c-4711-880f-b2525a6d8fd5",
   "metadata": {},
   "source": [
    "<h2>9. Top 5 Location Description of crimes.</h2>"
   ]
  },
  {
   "cell_type": "code",
   "execution_count": 18,
   "id": "5e721c5e-f006-407d-b37d-1729204f3edc",
   "metadata": {},
   "outputs": [
    {
     "data": {
      "text/plain": [
       "Location Description\n",
       "STREET                66040\n",
       "APARTMENT             47787\n",
       "RESIDENCE             29776\n",
       "SIDEWALK              13265\n",
       "SMALL RETAIL STORE     9858\n",
       "Name: count, dtype: int64"
      ]
     },
     "execution_count": 18,
     "metadata": {},
     "output_type": "execute_result"
    }
   ],
   "source": [
    "chicago['Location Description'].value_counts().head(5)"
   ]
  },
  {
   "cell_type": "markdown",
   "id": "7937f8b4-c0e8-414a-8830-390e2b25c312",
   "metadata": {},
   "source": [
    "<h2>10. Most common block for crimes.</h2>"
   ]
  },
  {
   "cell_type": "code",
   "execution_count": 19,
   "id": "2203d410-f843-4b0c-81e8-783b0de23695",
   "metadata": {},
   "outputs": [
    {
     "data": {
      "text/plain": [
       "'001XX N STATE ST'"
      ]
     },
     "execution_count": 19,
     "metadata": {},
     "output_type": "execute_result"
    }
   ],
   "source": [
    "chicago['Block'].value_counts().idxmax()"
   ]
  },
  {
   "cell_type": "markdown",
   "id": "1acdbfd7-81cd-483a-bd6c-8a5a5d097861",
   "metadata": {},
   "source": [
    "<h2>11. Number of wards where crimes occured.</h2>"
   ]
  },
  {
   "cell_type": "code",
   "execution_count": 20,
   "id": "d923c851-a305-4937-8750-b121b000bfc3",
   "metadata": {},
   "outputs": [
    {
     "data": {
      "text/plain": [
       "50"
      ]
     },
     "execution_count": 20,
     "metadata": {},
     "output_type": "execute_result"
    }
   ],
   "source": [
    "chicago['Ward'].nunique()"
   ]
  },
  {
   "cell_type": "markdown",
   "id": "2fe7da5b-3e7c-4bc5-8dde-daed8cfd5fa3",
   "metadata": {},
   "source": [
    "<h1><strong>Geography</strong></h1>\n",
    "<hr>"
   ]
  },
  {
   "cell_type": "markdown",
   "id": "834cda94-1255-4caa-b03f-4062823f38ff",
   "metadata": {},
   "source": [
    "<h2>12. Average Latitude and Longitude of crimes.</h2>"
   ]
  },
  {
   "cell_type": "code",
   "execution_count": 21,
   "id": "15854481-8841-41e9-bc64-2eed2fb2ad7c",
   "metadata": {},
   "outputs": [
    {
     "data": {
      "text/plain": [
       "Latitude     41.847129\n",
       "Longitude   -87.668871\n",
       "dtype: float64"
      ]
     },
     "execution_count": 21,
     "metadata": {},
     "output_type": "execute_result"
    }
   ],
   "source": [
    "chicago[['Latitude', 'Longitude']].mean()"
   ]
  },
  {
   "cell_type": "markdown",
   "id": "75e79341-8617-47ce-afea-5104aa857ea9",
   "metadata": {},
   "source": [
    "<h2>13. Top 8 Community areas with most crimes.</h2>"
   ]
  },
  {
   "cell_type": "code",
   "execution_count": 23,
   "id": "e28c4210-a7d9-4963-8943-18d31e06d783",
   "metadata": {},
   "outputs": [
    {
     "data": {
      "text/plain": [
       "Community Area\n",
       "25.0    12817\n",
       "8.0     11019\n",
       "28.0    10489\n",
       "32.0     8975\n",
       "43.0     8190\n",
       "24.0     7615\n",
       "23.0     6936\n",
       "29.0     6605\n",
       "Name: count, dtype: int64"
      ]
     },
     "execution_count": 23,
     "metadata": {},
     "output_type": "execute_result"
    }
   ],
   "source": [
    "chicago['Community Area'].value_counts().head(8)"
   ]
  },
  {
   "cell_type": "markdown",
   "id": "4db20ce7-bef4-433a-a785-5dcca5abde62",
   "metadata": {},
   "source": [
    "<h1><i>Bivariate Data</i></h1>"
   ]
  },
  {
   "cell_type": "markdown",
   "id": "0deeb60e-ade2-4fa5-8149-9bf8debe1618",
   "metadata": {},
   "source": [
    "<h1><strong>Crime Types vs. Arrest</strong></h1>\n",
    "<hr>"
   ]
  },
  {
   "cell_type": "markdown",
   "id": "09e08ece-8a8f-4fa9-8210-d3cc4c760135",
   "metadata": {},
   "source": [
    "<h2>14. Arrest rate(%) per crime types.</h2>"
   ]
  },
  {
   "cell_type": "code",
   "execution_count": 24,
   "id": "a9754be3-5de6-4562-8c10-1b588e7968f1",
   "metadata": {},
   "outputs": [
    {
     "data": {
      "text/plain": [
       "Primary Type\n",
       "GAMBLING                             100.000000\n",
       "CONCEALED CARRY LICENSE VIOLATION     98.795181\n",
       "LIQUOR LAW VIOLATION                  96.875000\n",
       "NARCOTICS                             95.835220\n",
       "PROSTITUTION                          95.121951\n",
       "PUBLIC INDECENCY                      92.307692\n",
       "INTERFERENCE WITH PUBLIC OFFICER      89.494163\n",
       "NON-CRIMINAL                          75.000000\n",
       "WEAPONS VIOLATION                     64.852038\n",
       "OBSCENITY                             52.830189\n",
       "Name: Arrest, dtype: float64"
      ]
     },
     "execution_count": 24,
     "metadata": {},
     "output_type": "execute_result"
    }
   ],
   "source": [
    "(chicago.groupby('Primary Type')['Arrest'].mean() * 100).sort_values(ascending = False).head(10)"
   ]
  },
  {
   "cell_type": "markdown",
   "id": "e8a5c0b6-e828-4597-b8bc-a9ab3e8b508a",
   "metadata": {},
   "source": [
    "<h2>15. Compare arrest vs. non-arrests in theft crimes.</h2>"
   ]
  },
  {
   "cell_type": "code",
   "execution_count": 25,
   "id": "c402e0b2-0219-4bd5-869f-bbc83103e6fa",
   "metadata": {},
   "outputs": [
    {
     "data": {
      "text/plain": [
       "Arrest\n",
       "False    0.923498\n",
       "True     0.076502\n",
       "Name: proportion, dtype: float64"
      ]
     },
     "execution_count": 25,
     "metadata": {},
     "output_type": "execute_result"
    }
   ],
   "source": [
    "chicago[chicago['Primary Type'] == 'THEFT']['Arrest'].value_counts(normalize = True)"
   ]
  },
  {
   "cell_type": "markdown",
   "id": "87c76db7-28c8-4223-a7d2-f65af911ba15",
   "metadata": {},
   "source": [
    "<h2>16. Heatmap of crime types vs arrest counts.</h2>"
   ]
  },
  {
   "cell_type": "code",
   "execution_count": 29,
   "id": "e41e1cf0-f4fa-4516-8e25-8b78a1702bc5",
   "metadata": {},
   "outputs": [
    {
     "data": {
      "text/plain": [
       "<Axes: xlabel='Arrest', ylabel='Primary Type'>"
      ]
     },
     "execution_count": 29,
     "metadata": {},
     "output_type": "execute_result"
    },
    {
     "data": {
      "image/png": "[encoded data removed]",
      "text/plain": [
       "<Figure size 640x480 with 2 Axes>"
      ]
     },
     "metadata": {},
     "output_type": "display_data"
    }
   ],
   "source": [
    "sns.heatmap(chicago.groupby(['Primary Type', 'Arrest']).size().unstack(fill_value = 0).head(10), cmap = 'Blues')"
   ]
  },
  {
   "cell_type": "markdown",
   "id": "f7f840c8-28f8-4826-8ec0-121710a28502",
   "metadata": {},
   "source": [
    "<h1><strong>Year vs. Crime</strong></h1>\n",
    "<hr>"
   ]
  },
  {
   "cell_type": "markdown",
   "id": "03619f94-7c7b-4331-8ac0-eb0f1d8510bc",
   "metadata": {},
   "source": [
    "<h2>17. Top 5 crime types trend by Year.</h2>"
   ]
  },
  {
   "cell_type": "code",
   "execution_count": 33,
   "id": "8c6eb66f-395a-4306-9f28-7bd7bea1267c",
   "metadata": {},
   "outputs": [
    {
     "data": {
      "text/plain": [
       "Year  Primary Type                     \n",
       "2024  ARSON                                    0\n",
       "      ASSAULT                              17298\n",
       "      BATTERY                              34052\n",
       "      BURGLARY                                 0\n",
       "      CONCEALED CARRY LICENSE VIOLATION        0\n",
       "                                           ...  \n",
       "2025  ROBBERY                                  0\n",
       "      SEX OFFENSE                              0\n",
       "      STALKING                                 0\n",
       "      THEFT                                13962\n",
       "      WEAPONS VIOLATION                        0\n",
       "Length: 62, dtype: int64"
      ]
     },
     "execution_count": 33,
     "metadata": {},
     "output_type": "execute_result"
    }
   ],
   "source": [
    "chicago[chicago['Primary Type'].isin(chicago['Primary Type'].value_counts().head(5).index)].groupby(['Year', 'Primary Type']).size()"
   ]
  },
  {
   "cell_type": "markdown",
   "id": "065f3f26-9747-46d8-8790-75a9a0fa5e76",
   "metadata": {},
   "source": [
    "<h2>18. Crimes by year vs District.</h2>"
   ]
  },
  {
   "cell_type": "code",
   "execution_count": 35,
   "id": "2131f518-ea6a-4a11-bbf9-4ca4e355138f",
   "metadata": {},
   "outputs": [
    {
     "data": {
      "text/html": [
       "<div>\n",
       "<style scoped>\n",
       "    .dataframe tbody tr th:only-of-type {\n",
       "        vertical-align: middle;\n",
       "    }\n",
       "\n",
       "    .dataframe tbody tr th {\n",
       "        vertical-align: top;\n",
       "    }\n",
       "\n",
       "    .dataframe thead th {\n",
       "        text-align: right;\n",
       "    }\n",
       "</style>\n",
       "<table border=\"1\" class=\"dataframe\">\n",
       "  <thead>\n",
       "    <tr style=\"text-align: right;\">\n",
       "      <th>District</th>\n",
       "      <th>1</th>\n",
       "      <th>2</th>\n",
       "      <th>3</th>\n",
       "      <th>4</th>\n",
       "      <th>5</th>\n",
       "      <th>6</th>\n",
       "      <th>7</th>\n",
       "      <th>8</th>\n",
       "      <th>9</th>\n",
       "      <th>10</th>\n",
       "      <th>...</th>\n",
       "      <th>15</th>\n",
       "      <th>16</th>\n",
       "      <th>17</th>\n",
       "      <th>18</th>\n",
       "      <th>19</th>\n",
       "      <th>20</th>\n",
       "      <th>22</th>\n",
       "      <th>24</th>\n",
       "      <th>25</th>\n",
       "      <th>31</th>\n",
       "    </tr>\n",
       "    <tr>\n",
       "      <th>Year</th>\n",
       "      <th></th>\n",
       "      <th></th>\n",
       "      <th></th>\n",
       "      <th></th>\n",
       "      <th></th>\n",
       "      <th></th>\n",
       "      <th></th>\n",
       "      <th></th>\n",
       "      <th></th>\n",
       "      <th></th>\n",
       "      <th></th>\n",
       "      <th></th>\n",
       "      <th></th>\n",
       "      <th></th>\n",
       "      <th></th>\n",
       "      <th></th>\n",
       "      <th></th>\n",
       "      <th></th>\n",
       "      <th></th>\n",
       "      <th></th>\n",
       "      <th></th>\n",
       "    </tr>\n",
       "  </thead>\n",
       "  <tbody>\n",
       "    <tr>\n",
       "      <th>2024</th>\n",
       "      <td>10982</td>\n",
       "      <td>9756</td>\n",
       "      <td>9490</td>\n",
       "      <td>9947</td>\n",
       "      <td>7411</td>\n",
       "      <td>10712</td>\n",
       "      <td>7936</td>\n",
       "      <td>12585</td>\n",
       "      <td>8327</td>\n",
       "      <td>7627</td>\n",
       "      <td>...</td>\n",
       "      <td>6471</td>\n",
       "      <td>6487</td>\n",
       "      <td>5873</td>\n",
       "      <td>9991</td>\n",
       "      <td>10566</td>\n",
       "      <td>4075</td>\n",
       "      <td>5816</td>\n",
       "      <td>6061</td>\n",
       "      <td>9579</td>\n",
       "      <td>10</td>\n",
       "    </tr>\n",
       "    <tr>\n",
       "      <th>2025</th>\n",
       "      <td>3427</td>\n",
       "      <td>3092</td>\n",
       "      <td>3055</td>\n",
       "      <td>3371</td>\n",
       "      <td>2472</td>\n",
       "      <td>3445</td>\n",
       "      <td>2584</td>\n",
       "      <td>4106</td>\n",
       "      <td>2583</td>\n",
       "      <td>2506</td>\n",
       "      <td>...</td>\n",
       "      <td>2134</td>\n",
       "      <td>2083</td>\n",
       "      <td>1928</td>\n",
       "      <td>3127</td>\n",
       "      <td>3074</td>\n",
       "      <td>1287</td>\n",
       "      <td>1894</td>\n",
       "      <td>2040</td>\n",
       "      <td>3085</td>\n",
       "      <td>9</td>\n",
       "    </tr>\n",
       "  </tbody>\n",
       "</table>\n",
       "<p>2 rows × 23 columns</p>\n",
       "</div>"
      ],
      "text/plain": [
       "District     1     2     3     4     5      6     7      8     9     10  ...  \\\n",
       "Year                                                                     ...   \n",
       "2024      10982  9756  9490  9947  7411  10712  7936  12585  8327  7627  ...   \n",
       "2025       3427  3092  3055  3371  2472   3445  2584   4106  2583  2506  ...   \n",
       "\n",
       "District    15    16    17    18     19    20    22    24    25  31  \n",
       "Year                                                                 \n",
       "2024      6471  6487  5873  9991  10566  4075  5816  6061  9579  10  \n",
       "2025      2134  2083  1928  3127   3074  1287  1894  2040  3085   9  \n",
       "\n",
       "[2 rows x 23 columns]"
      ]
     },
     "execution_count": 35,
     "metadata": {},
     "output_type": "execute_result"
    }
   ],
   "source": [
    "chicago.groupby(['Year', 'District']).size().unstack(fill_value = 0).head(10)"
   ]
  },
  {
   "cell_type": "code",
   "execution_count": null,
   "id": "5a0ab8a6-8575-4393-9116-0f7850e88c4a",
   "metadata": {},
   "outputs": [],
   "source": []
  }
 ],
 "metadata": {
  "kernelspec": {
   "display_name": "Python 3 (ipykernel)",
   "language": "python",
   "name": "python3"
  },
  "language_info": {
   "codemirror_mode": {
    "name": "ipython",
    "version": 3
   },
   "file_extension": ".py",
   "mimetype": "text/x-python",
   "name": "python",
   "nbconvert_exporter": "python",
   "pygments_lexer": "ipython3",
   "version": "3.13.0"
  }
 },
 "nbformat": 4,
 "nbformat_minor": 5
}
